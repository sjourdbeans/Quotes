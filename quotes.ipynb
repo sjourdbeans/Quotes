{
 "cells": [
  {
   "cell_type": "code",
   "execution_count": 75,
   "metadata": {},
   "outputs": [],
   "source": [
    "import pandas as pd\n",
    "import numpy as np\n",
    "import random\n",
    "import matplotlib.pyplot as plt\n",
    "from PIL import ImageFont, ImageDraw, Image\n",
    "import sys\n",
    "from matplotlib import font_manager\n",
    "import os\n"
   ]
  },
  {
   "cell_type": "code",
   "execution_count": 76,
   "metadata": {},
   "outputs": [],
   "source": [
    "def text_wrap(text, font, max_width):\n",
    "        \"\"\"Wrap text base on specified width. \n",
    "        This is to enable text of width more than the image width to be display\n",
    "        nicely.\n",
    "        @params:\n",
    "            text: str\n",
    "                text to wrap\n",
    "            font: obj\n",
    "                font of the text\n",
    "            max_width: int\n",
    "                width to split the text with\n",
    "        @return\n",
    "            lines: list[str]\n",
    "                list of sub-strings\n",
    "        \"\"\"\n",
    "        lines = []\n",
    "        \n",
    "        # If the text width is smaller than the image width, then no need to split\n",
    "        # just add it to the line list and return\n",
    "        if font.getsize(text)[0]  <= max_width:\n",
    "            lines.append(text)\n",
    "        else:\n",
    "            #split the line by spaces to get words\n",
    "            words = text.split(' ')\n",
    "            i = 0\n",
    "            # append every word to a line while its width is shorter than the image width\n",
    "            while i < len(words):\n",
    "                line = ''\n",
    "                while i < len(words) and font.getsize(line + words[i])[0] <= max_width:\n",
    "                    line = line + words[i]+ \" \"\n",
    "                    i += 1\n",
    "                if not line:\n",
    "                    line = words[i]\n",
    "                    i += 1\n",
    "                lines.append(line)\n",
    "        return lines"
   ]
  },
  {
   "cell_type": "code",
   "execution_count": 110,
   "metadata": {},
   "outputs": [],
   "source": [
    "quotes=pd.read_csv(\"quotes.txt\")\n",
    "quote,name=[quotes[\"quote\"],quotes[\"name\"]]\n",
    "index=random.randint(0,len(name)-1)\n",
    "use_string=f'\"{quote[index].capitalize()}\"~{name[index].title()}'\n",
    "\n",
    "\n",
    "def make_image(string,size=80):\n",
    "    with Image.open('images\\\\background.png') as img:\n",
    "        w, h = img.size\n",
    "        font = font_manager.FontProperties(family='sans-serif', style='italic', weight='ultralight')\n",
    "        file = font_manager.findfont(font)        \n",
    "        font = ImageFont.truetype(file, size)\n",
    "        # Call draw Method to add 2D graphics in an image\n",
    "        I1 = ImageDraw.Draw(img)          \n",
    "        lines = text_wrap(string, font, w*0.8)      \n",
    "        \n",
    "        for i,line in enumerate(lines):\n",
    "            textwidth, textheight = I1.textsize(line, font=font)\n",
    "            distance=90\n",
    "            dy=0.5*(len(lines)-1)*distance  \n",
    "            I1.text((w/2-textwidth/2,h/2-textheight/2+i*distance-dy), line.center(len(line)),font=font, fill=(0, 0, 0))\n",
    "        \n",
    "        \n",
    "        \n",
    "        img.show()\n",
    "        img.save(\"D:\\Random_projects\\\\test\\quote.png\")\n",
    "make_image(use_string)\n"
   ]
  },
  {
   "cell_type": "code",
   "execution_count": 13,
   "metadata": {},
   "outputs": [
    {
     "name": "stdout",
     "output_type": "stream",
     "text": [
      "C:\\Users\\sjoer\\AppData\\Local\\Programs\\Python\\Python38-32\\Lib\\site-packages\\matplotlib\\mpl-data\\fonts\\ttf\\DejaVuSans-Oblique.ttf\n"
     ]
    }
   ],
   "source": [
    "font = font_manager.FontProperties(family='sans-serif', style='italic', weight='normal')\n",
    "file = font_manager.findfont(font)\n",
    "print(file)\n",
    "font = ImageFont.truetype(file, 48)"
   ]
  }
 ],
 "metadata": {
  "kernelspec": {
   "display_name": "Python 3",
   "language": "python",
   "name": "python3"
  },
  "language_info": {
   "codemirror_mode": {
    "name": "ipython",
    "version": 3
   },
   "file_extension": ".py",
   "mimetype": "text/x-python",
   "name": "python",
   "nbconvert_exporter": "python",
   "pygments_lexer": "ipython3",
   "version": "3.8.5"
  },
  "orig_nbformat": 4
 },
 "nbformat": 4,
 "nbformat_minor": 2
}
